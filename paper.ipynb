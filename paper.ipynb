{
 "cells": [
  {
   "cell_type": "markdown",
   "metadata": {},
   "source": [
    "# Imports"
   ]
  },
  {
   "cell_type": "code",
   "execution_count": 95,
   "metadata": {},
   "outputs": [],
   "source": [
    "import pandas as pd\n",
    "from matplotlib import pyplot as plt\n",
    "import plotly.express as px\n",
    "import numpy as np\n",
    "import scipy.stats as stats\n",
    "import random\n",
    "import scipy.stats as stats"
   ]
  },
  {
   "cell_type": "markdown",
   "metadata": {},
   "source": [
    "# Primordial filter\n",
    "Filters all publication according to the manual categorizatino of the publication into relevant or irrelevant based on the eligibility criteria"
   ]
  },
  {
   "cell_type": "code",
   "execution_count": 96,
   "metadata": {},
   "outputs": [],
   "source": [
    "extraction=pd.read_csv('./input/extraction_cleaned.csv')\n",
    "\n",
    "extractioneligible=pd.read_csv('./input/extraction_cleaned_eligible_oa.csv')"
   ]
  },
  {
   "cell_type": "code",
   "execution_count": 97,
   "metadata": {},
   "outputs": [],
   "source": [
    "test=list(extractioneligible.PMID)\n",
    "list_string = map(str, test) \n",
    "\n",
    "searchstring=' OR '.join(list_string)\n",
    "with open('./output/relevant_search_pmids.txt', 'w') as f:\n",
    "    f.write(searchstring)"
   ]
  },
  {
   "cell_type": "markdown",
   "metadata": {},
   "source": [
    "#### then you run the search to extract the pmcids of the papers. \n",
    "To filter out the ones that are not indexed in PMC subset you have to search using the relevant_search_pmids.txt and add the term `(pubmed pmc open access[filter]) AND (the list of pmids)`\n",
    "you then export the output as a csv and name it \"pmcoalist.csv\""
   ]
  },
  {
   "cell_type": "code",
   "execution_count": 98,
   "metadata": {},
   "outputs": [],
   "source": [
    "pmcoalist=pd.read_csv('./input/pmcoalist.csv')"
   ]
  },
  {
   "cell_type": "code",
   "execution_count": 99,
   "metadata": {},
   "outputs": [],
   "source": [
    "pmcoalist=pd.read_csv('./input/pmcoalist.csv')\n",
    "df=pd.merge(extractioneligible,pmcoalist)\n",
    "df.to_csv('./output/pmcoalist.csv')"
   ]
  },
  {
   "cell_type": "markdown",
   "metadata": {},
   "source": [
    "### This new pmcoalist is the input to the Rscript \"autotransparent.R\""
   ]
  },
  {
   "cell_type": "markdown",
   "metadata": {},
   "source": [
    "## Merge codesharing and resttransparency dataframes"
   ]
  },
  {
   "cell_type": "code",
   "execution_count": 100,
   "metadata": {},
   "outputs": [],
   "source": [
    "codesharing=pd.read_csv('./output/codesharing.csv')\n",
    "resttransparency=pd.read_csv('./output/resttransparency.csv')\n",
    "codetransp = codesharing.rename(columns={'pmid':'PMID'})\n",
    "resttransp = resttransparency.rename(columns={'pmid':'PMID'})"
   ]
  },
  {
   "cell_type": "code",
   "execution_count": 101,
   "metadata": {},
   "outputs": [],
   "source": [
    "transp=pd.merge(resttransp, codetransp, on='PMID')\n",
    "transp=pd.merge(df, transp, on='PMID')"
   ]
  },
  {
   "cell_type": "code",
   "execution_count": 102,
   "metadata": {},
   "outputs": [],
   "source": [
    "all=list(pd.read_csv('~/Downloads/2019_results.csv').PMID)\n",
    "twentyone=list(pd.read_csv('~/Downloads/2021_results.csv').PMID)\n",
    "nineteen=list(pd.read_csv('~/Downloads/2019_results.csv').PMID)\n",
    "\n",
    "all.extend(twentyone)"
   ]
  },
  {
   "cell_type": "markdown",
   "metadata": {},
   "source": [
    "# Some minor changes to the dataframe"
   ]
  },
  {
   "cell_type": "code",
   "execution_count": 103,
   "metadata": {},
   "outputs": [
    {
     "name": "stderr",
     "output_type": "stream",
     "text": [
      "/var/folders/wx/sx67klw51p99ypb39mtcwx_00000gn/T/ipykernel_32845/1416903862.py:2: SettingWithCopyWarning: \n",
      "A value is trying to be set on a copy of a slice from a DataFrame\n",
      "\n",
      "See the caveats in the documentation: https://pandas.pydata.org/pandas-docs/stable/user_guide/indexing.html#returning-a-view-versus-a-copy\n",
      "  transp['Publication Year'][transp['PMID'].isin(nineteen)]='2019'\n",
      "/var/folders/wx/sx67klw51p99ypb39mtcwx_00000gn/T/ipykernel_32845/1416903862.py:3: SettingWithCopyWarning: \n",
      "A value is trying to be set on a copy of a slice from a DataFrame\n",
      "\n",
      "See the caveats in the documentation: https://pandas.pydata.org/pandas-docs/stable/user_guide/indexing.html#returning-a-view-versus-a-copy\n",
      "  transp['Publication Year'][transp['PMID'].isin(twentyone)]='2021'\n"
     ]
    }
   ],
   "source": [
    "transp=transp[transp['PMID'].isin(list(extractioneligible.PMID))]\n",
    "transp['Publication Year'][transp['PMID'].isin(nineteen)]='2019'\n",
    "transp['Publication Year'][transp['PMID'].isin(twentyone)]='2021'"
   ]
  },
  {
   "cell_type": "code",
   "execution_count": 104,
   "metadata": {},
   "outputs": [
    {
     "name": "stderr",
     "output_type": "stream",
     "text": [
      "/Users/emmanuel/opt/anaconda3/lib/python3.9/site-packages/pandas/core/indexing.py:1732: SettingWithCopyWarning: \n",
      "A value is trying to be set on a copy of a slice from a DataFrame\n",
      "\n",
      "See the caveats in the documentation: https://pandas.pydata.org/pandas-docs/stable/user_guide/indexing.html#returning-a-view-versus-a-copy\n",
      "  self._setitem_single_block(indexer, value, name)\n"
     ]
    }
   ],
   "source": [
    "transp['Publication_Year']=transp['Publication Year']\n",
    "transp['Journal']=transp['Journal/Book']\n",
    "columns=['PMID','is_coi_pred','is_register_pred','is_fund_pred','is_open_code','is_open_data','Disease','Model','Publication_Year','Journal']\n",
    "transp=pd.DataFrame(transp, columns=columns)\n",
    "transp['is_open_code'] = transp['is_open_code'].astype('bool')\n",
    "transp['is_open_data'] = transp['is_open_data'].astype('bool')\n",
    "\n",
    "\n",
    "#transp[\"Publication_Year\"]=transp[\"Publication_Year\"].values.astype(str)\n",
    "transp.Publication_Year.iloc[(transp['Publication_Year'].isin(['2021']))& (transp['Disease']!='Covid-19')]='2021 Non Covid-19'\n",
    "transp.Publication_Year.iloc[(transp['Publication_Year']=='2021')& (transp['Disease']=='Covid-19')]='2021 Covid-19'"
   ]
  },
  {
   "cell_type": "markdown",
   "metadata": {},
   "source": [
    "## export the cleaned dataframe to a merged dataframe"
   ]
  },
  {
   "cell_type": "code",
   "execution_count": 105,
   "metadata": {},
   "outputs": [],
   "source": [
    "transp.to_csv('./results/transparency_indicators.csv')"
   ]
  },
  {
   "cell_type": "markdown",
   "metadata": {},
   "source": [
    "# For main table of study characteristics"
   ]
  },
  {
   "cell_type": "markdown",
   "metadata": {},
   "source": [
    "For the counts of the year subsets and their percentages take these values and do the math"
   ]
  },
  {
   "cell_type": "code",
   "execution_count": 106,
   "metadata": {},
   "outputs": [
    {
     "data": {
      "text/plain": [
       "2021 Covid-19        818\n",
       "2021 Non Covid-19    304\n",
       "2019                 216\n",
       "Name: Publication_Year, dtype: int64"
      ]
     },
     "execution_count": 106,
     "metadata": {},
     "output_type": "execute_result"
    }
   ],
   "source": [
    "transp['Publication_Year'].value_counts()\n"
   ]
  },
  {
   "cell_type": "markdown",
   "metadata": {},
   "source": [
    "## Models"
   ]
  },
  {
   "cell_type": "code",
   "execution_count": 107,
   "metadata": {},
   "outputs": [],
   "source": [
    "tjugonitton=transp[transp['Publication_Year']=='2019']\n",
    "tjugotjugoettcovid=transp[transp['Publication_Year']=='2021 Covid-19']\n",
    "tjugotjugoettnovid=transp[transp['Publication_Year']=='2021 Non Covid-19']\n",
    "\n",
    "a=dict(transp.groupby('Publication_Year')['Model'].value_counts())\n",
    "b=dict(tjugonitton.groupby('Publication_Year')['Model'].value_counts()/len(tjugonitton)*100)\n",
    "c=dict(tjugotjugoettcovid.groupby('Publication_Year')['Model'].value_counts()/len(tjugotjugoettcovid)*100)\n",
    "d=dict(tjugotjugoettnovid.groupby('Publication_Year')['Model'].value_counts()/len(tjugotjugoettnovid)*100)\n",
    "\n",
    "\n",
    "a=pd.DataFrame.from_dict(a,orient='index')\n",
    "b=pd.DataFrame.from_dict(b,orient='index')\n",
    "c=pd.DataFrame.from_dict(c,orient='index')\n",
    "d=pd.DataFrame.from_dict(d,orient='index')\n",
    "b=pd.concat([b,c])\n",
    "b=pd.concat([b,d])\n",
    "\n",
    "\n",
    "pd.merge(a, b, left_index=True, right_index=True).to_csv('./results/main_table_model.csv')\n"
   ]
  },
  {
   "cell_type": "code",
   "execution_count": 108,
   "metadata": {},
   "outputs": [
    {
     "data": {
      "text/plain": [
       "Compartmental     511\n",
       "Time Series       337\n",
       "Spatiotemporal    279\n",
       "Agent-based       186\n",
       "Multiple           25\n",
       "Name: Model, dtype: int64"
      ]
     },
     "execution_count": 108,
     "metadata": {},
     "output_type": "execute_result"
    }
   ],
   "source": [
    "transp['Model'].value_counts()"
   ]
  },
  {
   "cell_type": "code",
   "execution_count": 109,
   "metadata": {},
   "outputs": [
    {
     "data": {
      "text/plain": [
       "Compartmental     38.191330\n",
       "Time Series       25.186846\n",
       "Spatiotemporal    20.852018\n",
       "Agent-based       13.901345\n",
       "Multiple           1.868460\n",
       "Name: Model, dtype: float64"
      ]
     },
     "execution_count": 109,
     "metadata": {},
     "output_type": "execute_result"
    }
   ],
   "source": [
    "transp['Model'].value_counts()/len(transp) *100"
   ]
  },
  {
   "cell_type": "markdown",
   "metadata": {},
   "source": [
    "## Diseases"
   ]
  },
  {
   "cell_type": "code",
   "execution_count": 110,
   "metadata": {},
   "outputs": [],
   "source": [
    "tjugonitton=transp[transp['Publication_Year']=='2019']\n",
    "tjugotjugoettcovid=transp[transp['Publication_Year']=='2021 Covid-19']\n",
    "tjugotjugoettnovid=transp[transp['Publication_Year']=='2021 Non Covid-19']\n",
    "\n",
    "a=dict(transp.groupby('Publication_Year')['Disease'].value_counts())\n",
    "b=dict(tjugonitton.groupby('Publication_Year')['Disease'].value_counts()/len(tjugonitton)*100)\n",
    "c=dict(tjugotjugoettcovid.groupby('Publication_Year')['Disease'].value_counts()/len(tjugotjugoettcovid)*100)\n",
    "d=dict(tjugotjugoettnovid.groupby('Publication_Year')['Disease'].value_counts()/len(tjugotjugoettnovid)*100)\n",
    "\n",
    "\n",
    "a=pd.DataFrame.from_dict(a,orient='index')\n",
    "\n",
    "\n",
    "b=pd.DataFrame.from_dict(b,orient='index')\n",
    "c=pd.DataFrame.from_dict(c,orient='index')\n",
    "d=pd.DataFrame.from_dict(d,orient='index')\n",
    "b=pd.concat([b,c])\n",
    "\n",
    "b=pd.concat([b,d])\n",
    "\n",
    "\n",
    "pd.merge(a, b, left_index=True, right_index=True).to_csv('./results/main_table_disease.csv')\n"
   ]
  },
  {
   "cell_type": "markdown",
   "metadata": {},
   "source": [
    "## Journals"
   ]
  },
  {
   "cell_type": "code",
   "execution_count": 111,
   "metadata": {},
   "outputs": [],
   "source": [
    "a=dict(transp.groupby('Publication_Year')['Journal'].value_counts())\n",
    "\n",
    "tjugonitton=transp[transp['Publication_Year']=='2019']\n",
    "tjugotjugoettcovid=transp[transp['Publication_Year']=='2021 Covid-19']\n",
    "tjugotjugoettnovid=transp[transp['Publication_Year']=='2021 Non Covid-19']\n",
    "\n",
    "b=dict(tjugonitton.groupby('Publication_Year')['Journal'].value_counts()/len(tjugonitton)*100)\n",
    "c=dict(tjugotjugoettcovid.groupby('Publication_Year')['Journal'].value_counts()/len(tjugotjugoettcovid)*100)\n",
    "d=dict(tjugotjugoettnovid.groupby('Publication_Year')['Journal'].value_counts()/len(tjugotjugoettnovid)*100)\n",
    "\n",
    "\n",
    "a=pd.DataFrame.from_dict(a,orient='index')\n",
    "b=pd.DataFrame.from_dict(b,orient='index')\n",
    "c=pd.DataFrame.from_dict(c,orient='index')\n",
    "d=pd.DataFrame.from_dict(d,orient='index')\n",
    "b=pd.concat([b,c])\n",
    "b=pd.concat([b,d])\n",
    "\n",
    "\n",
    "Journals=pd.merge(a, b, left_index=True, right_index=True)\n",
    "Journals.to_csv('./results/main_table_journal.csv')\n"
   ]
  },
  {
   "cell_type": "code",
   "execution_count": 112,
   "metadata": {},
   "outputs": [
    {
     "data": {
      "text/plain": [
       "{'PLoS One': 115,\n",
       " 'Sci Rep': 91,\n",
       " 'Int J Environ Res Public Health': 63,\n",
       " 'BMC Infect Dis': 38,\n",
       " 'PLoS Negl Trop Dis': 33,\n",
       " 'PLoS Comput Biol': 29,\n",
       " 'BMC Public Health': 28,\n",
       " 'Chaos Solitons Fractals': 25,\n",
       " 'Infect Dis Model': 23,\n",
       " 'Results Phys': 22,\n",
       " 'Front Public Health': 17,\n",
       " 'medRxiv': 17,\n",
       " 'Epidemiol Infect': 16,\n",
       " 'Epidemics': 16,\n",
       " 'BMJ Open': 13,\n",
       " 'Nonlinear Dyn': 13,\n",
       " 'Parasit Vectors': 11,\n",
       " 'J R Soc Interface': 11,\n",
       " 'Math Biosci': 10,\n",
       " 'Vaccines (Basel)': 10,\n",
       " 'PeerJ': 10,\n",
       " 'J Math Biol': 10,\n",
       " 'Nat Commun': 9,\n",
       " 'Physica A': 9,\n",
       " 'Proc Natl Acad Sci U S A': 9,\n",
       " 'Comput Biol Med': 9,\n",
       " 'Int J Infect Dis': 9,\n",
       " 'Adv Differ Equ': 9,\n",
       " 'Vaccine': 9,\n",
       " 'R Soc Open Sci': 8,\n",
       " 'Viruses': 8,\n",
       " 'J Med Internet Res': 8,\n",
       " 'JAMA Netw Open': 7,\n",
       " 'Appl Soft Comput': 7,\n",
       " 'Appl Intell (Dordr)': 7,\n",
       " 'Eur Phys J Plus': 7,\n",
       " 'J Theor Biol': 7,\n",
       " 'JMIR Public Health Surveill': 7,\n",
       " 'Spat Stat': 6,\n",
       " 'Healthcare (Basel)': 6,\n",
       " 'Malar J': 6,\n",
       " 'Infect Drug Resist': 6,\n",
       " 'Biology (Basel)': 6,\n",
       " 'Sustain Cities Soc': 6,\n",
       " 'Clin Infect Dis': 6,\n",
       " 'Geohealth': 5,\n",
       " 'Philos Trans R Soc Lond B Biol Sci': 5,\n",
       " 'Sci Total Environ': 5,\n",
       " 'Annu Rev Control': 5,\n",
       " 'Am J Trop Med Hyg': 5,\n",
       " 'BMC Med': 5,\n",
       " 'Lancet Reg Health West Pac': 5,\n",
       " 'Proc Biol Sci': 5,\n",
       " 'Appl Math Model': 5,\n",
       " 'Expert Syst Appl': 5,\n",
       " 'Procedia Comput Sci': 5,\n",
       " 'ISA Trans': 4,\n",
       " 'Environ Sci Pollut Res Int': 4,\n",
       " 'Commun Nonlinear Sci Numer Simul': 4,\n",
       " 'Heliyon': 4,\n",
       " 'Stoch Environ Res Risk Assess': 4,\n",
       " 'Model Earth Syst Environ': 4,\n",
       " 'Physica D': 4,\n",
       " 'J Biomed Inform': 4,\n",
       " 'Environ Res': 4,\n",
       " 'Int J Epidemiol': 4,\n",
       " 'Soft comput': 4,\n",
       " 'Ann Epidemiol': 4,\n",
       " 'Disaster Med Public Health Prep': 4,\n",
       " 'Infect Genet Evol': 4,\n",
       " 'Spat Spatiotemporal Epidemiol': 4,\n",
       " 'Rev Soc Bras Med Trop': 4,\n",
       " 'Lancet Infect Dis': 4,\n",
       " 'J Math Econ': 4,\n",
       " 'Pathogens': 3,\n",
       " 'Open Forum Infect Dis': 3,\n",
       " 'BMC Med Res Methodol': 3,\n",
       " 'NPJ Digit Med': 3,\n",
       " 'Emerg Infect Dis': 3,\n",
       " 'Travel Med Infect Dis': 3,\n",
       " 'Cities': 3,\n",
       " 'J Econom': 3,\n",
       " 'Entropy (Basel)': 3,\n",
       " 'Infect Dis Poverty': 3,\n",
       " 'Math Methods Appl Sci': 3,\n",
       " 'AIMS Public Health': 3,\n",
       " 'Euro Surveill': 3,\n",
       " 'EClinicalMedicine': 3,\n",
       " 'Arch Comput Methods Eng': 3,\n",
       " 'Adv Theory Simul': 3,\n",
       " 'Math Comput Simul': 3,\n",
       " 'Epidemiology': 3,\n",
       " 'BMJ': 3,\n",
       " 'Mater Today Proc': 3,\n",
       " 'Saf Sci': 2,\n",
       " 'Trop Med Infect Dis': 2,\n",
       " 'Lancet Digit Health': 2,\n",
       " 'J Formos Med Assoc': 2,\n",
       " 'J Dyn Differ Equ': 2,\n",
       " 'Cognit Comput': 2,\n",
       " 'Transbound Emerg Dis': 2,\n",
       " 'Ann Oper Res': 2,\n",
       " 'BMC Vet Res': 2,\n",
       " 'Ecohealth': 2,\n",
       " 'Health Policy Plan': 2,\n",
       " 'Transp Res Part C Emerg Technol': 2,\n",
       " 'Sci Adv': 2,\n",
       " 'Comput Math Organ Theory': 2,\n",
       " 'BMJ Glob Health': 2,\n",
       " 'Ann Intern Med': 2,\n",
       " 'Rev Saude Publica': 2,\n",
       " 'Sex Transm Dis': 2,\n",
       " 'Value Health': 2,\n",
       " 'J Infect Dis': 2,\n",
       " 'Z Gesundh Wiss': 2,\n",
       " 'Pattern Recognit Lett': 2,\n",
       " 'J Appl Math Comput': 2,\n",
       " 'Front Artif Intell': 2,\n",
       " 'Int J Health Geogr': 2,\n",
       " 'Infect Dis Rep': 2,\n",
       " 'Comput Struct Biotechnol J': 2,\n",
       " 'Health Sci Rep': 2,\n",
       " 'Lancet Glob Health': 2,\n",
       " 'Infect Control Hosp Epidemiol': 2,\n",
       " 'J Math Ind': 2,\n",
       " 'Comput Mech': 2,\n",
       " 'Appl Netw Sci': 2,\n",
       " 'GeoJournal': 2,\n",
       " 'ScientificWorldJournal': 2,\n",
       " 'J Transl Med': 2,\n",
       " 'PLoS Med': 2,\n",
       " 'Eur J Health Econ': 2,\n",
       " 'J Clin Med': 2,\n",
       " 'Comput Methods Programs Biomed': 2,\n",
       " 'Lancet Public Health': 2,\n",
       " 'Arab J Sci Eng': 2,\n",
       " 'Lancet HIV': 2,\n",
       " 'Health Care Manag Sci': 2,\n",
       " 'Inf Sci (N Y)': 2,\n",
       " 'J Math Anal Appl': 2,\n",
       " 'J Gen Intern Med': 2,\n",
       " 'Health Econ': 2,\n",
       " 'JMIR Med Inform': 2,\n",
       " 'Am J Epidemiol': 2,\n",
       " 'Proc Math Phys Eng Sci': 2,\n",
       " 'Stat Med': 2,\n",
       " 'Comput Math Methods Med': 2,\n",
       " 'J Med Virol': 2,\n",
       " 'Neural Comput Appl': 2,\n",
       " 'Medicine (Baltimore)': 2,\n",
       " 'Mayo Clin Proc': 2,\n",
       " 'J Int AIDS Soc': 2,\n",
       " 'Iran J Public Health': 2,\n",
       " 'IEEE Open J Eng Med Biol': 2,\n",
       " 'Biomed Res Int': 2,\n",
       " 'J Glob Health': 2,\n",
       " 'Front Vet Sci': 2,\n",
       " 'Philos Trans A Math Phys Eng Sci': 2,\n",
       " 'Public Health': 2,\n",
       " 'Comput Methods Programs Biomed Update': 2,\n",
       " 'Int J Dyn Control': 2,\n",
       " 'Bull Math Biol': 2,\n",
       " 'Lancet Reg Health Am': 2,\n",
       " 'Lancet Planet Health': 2,\n",
       " 'Wellcome Open Res': 2,\n",
       " 'JMIRx Med': 2,\n",
       " 'Clin Epidemiol Glob Health': 2,\n",
       " 'SN Comput Sci': 2,\n",
       " 'Biomech Model Mechanobiol': 2,\n",
       " 'Trans GIS': 2,\n",
       " 'Sensors (Basel)': 2,\n",
       " 'J Healthc Inform Res': 2,\n",
       " 'J Public Aff': 2,\n",
       " 'Theor Appl Climatol': 1,\n",
       " 'Health Policy': 1,\n",
       " 'BMC Med Inform Decis Mak': 1,\n",
       " 'World Med Health Policy': 1,\n",
       " 'Comput Chem Eng': 1,\n",
       " 'CMAJ': 1,\n",
       " 'J Public Health Res': 1,\n",
       " 'CMAJ Open': 1,\n",
       " 'Inform Med Unlocked': 1,\n",
       " 'Am J Hum Biol': 1,\n",
       " 'Chem Eng Sci': 1,\n",
       " 'ArXiv': 1,\n",
       " 'Antibiotics (Basel)': 1,\n",
       " 'Microsc Res Tech': 1,\n",
       " 'Genomics Inform': 1,\n",
       " 'Commun Biol': 1,\n",
       " 'J Am Med Inform Assoc': 1,\n",
       " 'Data Brief': 1,\n",
       " 'J Virol Methods': 1,\n",
       " 'Neural Process Lett': 1,\n",
       " 'Gigascience': 1,\n",
       " 'Hum Vaccin Immunother': 1,\n",
       " 'Comput Intell Neurosci': 1,\n",
       " 'Br J Gen Pract': 1,\n",
       " 'Elife': 1,\n",
       " 'Theory Biosci': 1,\n",
       " 'J Optim Theory Appl': 1,\n",
       " 'Patterns (N Y)': 1,\n",
       " 'New Gener Comput': 1,\n",
       " 'Jpn J Ophthalmol': 1,\n",
       " 'Interdiscip Perspect Infect Dis': 1,\n",
       " 'APMIS': 1,\n",
       " 'Chemosphere': 1,\n",
       " 'Transp Res Interdiscip Perspect': 1,\n",
       " 'Eur J Hosp Pharm': 1,\n",
       " 'J Big Data': 1,\n",
       " 'Digit Signal Process': 1,\n",
       " 'BMC Pediatr': 1,\n",
       " 'Mol Biol Evol': 1,\n",
       " 'Inf Process Manag': 1,\n",
       " 'Air Qual Atmos Health': 1,\n",
       " 'J Bus Res': 1,\n",
       " 'J Gen Fam Med': 1,\n",
       " 'Pers Ubiquitous Comput': 1,\n",
       " 'Theor Popul Biol': 1,\n",
       " 'Biomath (Sofia)': 1,\n",
       " 'Healthc Inform Res': 1,\n",
       " 'J Am Pharm Assoc (2003)': 1,\n",
       " 'Clin Microbiol Infect': 1,\n",
       " 'Tanaffos': 1,\n",
       " 'Emerg Microbes Infect': 1,\n",
       " 'J Travel Med': 1,\n",
       " 'Health Promot Perspect': 1,\n",
       " 'J Int Med Res': 1,\n",
       " 'Ecol Evol': 1,\n",
       " 'J Differ Equ': 1,\n",
       " 'Clin Cardiol': 1,\n",
       " 'Influenza Other Respir Viruses': 1,\n",
       " 'Theor Biol Med Model': 1,\n",
       " 'Lancet': 1,\n",
       " 'Environ Health Perspect': 1,\n",
       " 'J Postgrad Med': 1,\n",
       " 'BMC Res Notes': 1,\n",
       " 'Diagnostics (Basel)': 1,\n",
       " 'Trop Med Health': 1,\n",
       " 'Med Sci Monit': 1,\n",
       " 'J Epidemiol Community Health': 1,\n",
       " 'J Acquir Immune Defic Syndr': 1,\n",
       " 'F1000Res': 1,\n",
       " 'J Franklin Inst': 1,\n",
       " 'Sci Data': 1,\n",
       " 'Array (N Y)': 1,\n",
       " 'China Econ Rev': 1,\n",
       " 'J Public Health (Oxf)': 1,\n",
       " 'Cureus': 1,\n",
       " 'Biochem Biophys Res Commun': 1,\n",
       " 'PeerJ Comput Sci': 1,\n",
       " 'J Vet Res': 1,\n",
       " 'Biom J': 1,\n",
       " 'Med J Aust': 1,\n",
       " 'Chem Eng J': 1,\n",
       " 'Indian J Med Res': 1,\n",
       " 'Environ Pollut': 1,\n",
       " 'J Complex Netw': 1,\n",
       " 'Nat Med': 1,\n",
       " 'Rev Esp Sanid Penit': 1,\n",
       " 'J Epidemiol Glob Health': 1,\n",
       " 'Measurement (Lond)': 1,\n",
       " 'J Infect Chemother': 1,\n",
       " 'Appl Math Lett': 1,\n",
       " 'J Epidemiol': 1,\n",
       " 'J Adolesc Health': 1,\n",
       " 'J Virol': 1,\n",
       " 'Theor Ecol': 1,\n",
       " 'J Bras Pneumol': 1,\n",
       " 'Phys Rev E': 1,\n",
       " 'Health Secur': 1,\n",
       " 'Evol Intell': 1,\n",
       " 'Int J Numer Method Biomed Eng': 1,\n",
       " 'Appl Math Comput': 1,\n",
       " 'SSM Popul Health': 1,\n",
       " 'Swiss J Econ Stat': 1,\n",
       " 'Soc Sci Med': 1,\n",
       " 'Afr Health Sci': 1,\n",
       " 'Genus': 1,\n",
       " 'J Family Med Prim Care': 1,\n",
       " 'Glob Epidemiol': 1,\n",
       " 'Comput Biol Chem': 1,\n",
       " 'Front Appl Math Stat': 1,\n",
       " 'Cogn Neurodyn': 1,\n",
       " 'Appl Math Optim': 1,\n",
       " 'Econ Anal Policy': 1,\n",
       " 'Beni Suef Univ J Basic Appl Sci': 1,\n",
       " 'J Arthropod Borne Dis': 1,\n",
       " 'J Transp Health': 1,\n",
       " 'Econ Theory': 1,\n",
       " 'Int J Forecast': 1,\n",
       " 'Transportation (Amst)': 1,\n",
       " 'Health Place': 1,\n",
       " 'Ann Med': 1,\n",
       " 'J Healthc Eng': 1,\n",
       " 'Am J Infect Control': 1,\n",
       " 'BMC Bioinformatics': 1,\n",
       " 'Soc Netw Anal Min': 1,\n",
       " 'Res Sq': 1,\n",
       " 'One Health': 1,\n",
       " 'Comput Soc Netw': 1,\n",
       " 'Future Gener Comput Syst': 1,\n",
       " 'J Pers Med': 1,\n",
       " 'Soc Sci Q': 1,\n",
       " 'Chin Geogr Sci': 1,\n",
       " 'Rev Inst Med Trop Sao Paulo': 1,\n",
       " 'Bioinformatics': 1,\n",
       " 'Indian J Phys Proc Indian Assoc Cultiv Sci (2004)': 1,\n",
       " 'Environ Sci Eur': 1,\n",
       " 'Biometrics': 1,\n",
       " 'Sex Transm Infect': 1,\n",
       " 'Int J Disaster Risk Reduct': 1,\n",
       " 'J Clin Tuberc Other Mycobact Dis': 1,\n",
       " 'BMC Biol': 1,\n",
       " 'Int J Control Autom Syst': 1,\n",
       " 'Microb Pathog': 1,\n",
       " 'Dyn Games Appl': 1,\n",
       " 'Comput Human Behav': 1,\n",
       " 'Animals (Basel)': 1,\n",
       " 'Insects': 1,\n",
       " 'J Policy Model': 1,\n",
       " 'Neurocomputing': 1,\n",
       " 'Knowl Based Syst': 1,\n",
       " 'J Reg Sci': 1,\n",
       " 'Int J Appl Comput Math': 1,\n",
       " 'Oxf Bull Econ Stat': 1,\n",
       " 'BMJ Health Care Inform': 1,\n",
       " 'Math Biosci Eng': 1,\n",
       " 'J Fungi (Basel)': 1,\n",
       " 'Popul Health Metr': 1,\n",
       " 'J Geogr Syst': 1,\n",
       " 'Vaccine X': 1,\n",
       " 'J Environ Public Health': 1,\n",
       " 'Financ Res Lett': 1,\n",
       " 'Econ Hum Biol': 1,\n",
       " 'Eur J Epidemiol': 1,\n",
       " 'Mil Med Res': 1,\n",
       " 'Engineering (Beijing)': 1,\n",
       " 'Stud Appl Math': 1,\n",
       " 'Environ Health Prev Med': 1,\n",
       " 'Can J Stat': 1,\n",
       " 'AIDS Res Ther': 1,\n",
       " 'Anal Math Phys': 1,\n",
       " 'Public Health Pract (Oxf)': 1,\n",
       " 'JMIR Mhealth Uhealth': 1,\n",
       " 'PLoS Biol': 1,\n",
       " 'Prev Med': 1,\n",
       " 'Curr Med Sci': 1,\n",
       " 'Optim Control Appl Methods': 1,\n",
       " 'Ecol Genet Genom': 1,\n",
       " 'J Chem Sci (Bangalore)': 1,\n",
       " 'Socioecon Plann Sci': 1,\n",
       " 'Eur J Oper Res': 1,\n",
       " 'J Biosaf Biosecur': 1,\n",
       " 'Indian J Community Med': 1,\n",
       " 'Eur Phys J Spec Top': 1,\n",
       " 'J Expo Sci Environ Epidemiol': 1,\n",
       " 'Exp Results': 1,\n",
       " 'J Infect': 1,\n",
       " 'Saudi J Biol Sci': 1,\n",
       " 'Technol Forecast Soc Change': 1,\n",
       " 'J Supercomput': 1,\n",
       " 'Environ Int': 1,\n",
       " 'J Intell Inf Syst': 1,\n",
       " 'Prev Vet Med': 1,\n",
       " 'Bull Natl Res Cent': 1,\n",
       " 'J Clin Virol': 1,\n",
       " 'J Taibah Univ Med Sci': 1,\n",
       " 'IEEE Access': 1,\n",
       " 'Math Semesterber': 1,\n",
       " 'J Clin Epidemiol': 1,\n",
       " 'Process Saf Environ Prot': 1,\n",
       " 'Front Robot AI': 1,\n",
       " 'Z Angew Math Phys': 1,\n",
       " 'Cost Eff Resour Alloc': 1}"
      ]
     },
     "execution_count": 112,
     "metadata": {},
     "output_type": "execute_result"
    }
   ],
   "source": [
    "dict(transp['Journal'].value_counts())"
   ]
  },
  {
   "cell_type": "code",
   "execution_count": 113,
   "metadata": {},
   "outputs": [
    {
     "data": {
      "text/plain": [
       "{'PLoS One': 8.6,\n",
       " 'Sci Rep': 6.8,\n",
       " 'Int J Environ Res Public Health': 4.7,\n",
       " 'BMC Infect Dis': 2.8,\n",
       " 'PLoS Negl Trop Dis': 2.5,\n",
       " 'PLoS Comput Biol': 2.2,\n",
       " 'BMC Public Health': 2.1,\n",
       " 'Chaos Solitons Fractals': 1.9,\n",
       " 'Infect Dis Model': 1.7,\n",
       " 'Results Phys': 1.6,\n",
       " 'Front Public Health': 1.3,\n",
       " 'medRxiv': 1.3,\n",
       " 'Epidemiol Infect': 1.2,\n",
       " 'Epidemics': 1.2,\n",
       " 'BMJ Open': 1.0,\n",
       " 'Nonlinear Dyn': 1.0,\n",
       " 'Parasit Vectors': 0.8,\n",
       " 'J R Soc Interface': 0.8,\n",
       " 'Math Biosci': 0.7,\n",
       " 'Vaccines (Basel)': 0.7,\n",
       " 'PeerJ': 0.7,\n",
       " 'J Math Biol': 0.7,\n",
       " 'Nat Commun': 0.7,\n",
       " 'Physica A': 0.7,\n",
       " 'Proc Natl Acad Sci U S A': 0.7,\n",
       " 'Comput Biol Med': 0.7,\n",
       " 'Int J Infect Dis': 0.7,\n",
       " 'Adv Differ Equ': 0.7,\n",
       " 'Vaccine': 0.7,\n",
       " 'R Soc Open Sci': 0.6,\n",
       " 'Viruses': 0.6,\n",
       " 'J Med Internet Res': 0.6,\n",
       " 'JAMA Netw Open': 0.5,\n",
       " 'Appl Soft Comput': 0.5,\n",
       " 'Appl Intell (Dordr)': 0.5,\n",
       " 'Eur Phys J Plus': 0.5,\n",
       " 'J Theor Biol': 0.5,\n",
       " 'JMIR Public Health Surveill': 0.5,\n",
       " 'Spat Stat': 0.4,\n",
       " 'Healthcare (Basel)': 0.4,\n",
       " 'Malar J': 0.4,\n",
       " 'Infect Drug Resist': 0.4,\n",
       " 'Biology (Basel)': 0.4,\n",
       " 'Sustain Cities Soc': 0.4,\n",
       " 'Clin Infect Dis': 0.4,\n",
       " 'Geohealth': 0.4,\n",
       " 'Philos Trans R Soc Lond B Biol Sci': 0.4,\n",
       " 'Sci Total Environ': 0.4,\n",
       " 'Annu Rev Control': 0.4,\n",
       " 'Am J Trop Med Hyg': 0.4,\n",
       " 'BMC Med': 0.4,\n",
       " 'Lancet Reg Health West Pac': 0.4,\n",
       " 'Proc Biol Sci': 0.4,\n",
       " 'Appl Math Model': 0.4,\n",
       " 'Expert Syst Appl': 0.4,\n",
       " 'Procedia Comput Sci': 0.4,\n",
       " 'ISA Trans': 0.3,\n",
       " 'Environ Sci Pollut Res Int': 0.3,\n",
       " 'Commun Nonlinear Sci Numer Simul': 0.3,\n",
       " 'Heliyon': 0.3,\n",
       " 'Stoch Environ Res Risk Assess': 0.3,\n",
       " 'Model Earth Syst Environ': 0.3,\n",
       " 'Physica D': 0.3,\n",
       " 'J Biomed Inform': 0.3,\n",
       " 'Environ Res': 0.3,\n",
       " 'Int J Epidemiol': 0.3,\n",
       " 'Soft comput': 0.3,\n",
       " 'Ann Epidemiol': 0.3,\n",
       " 'Disaster Med Public Health Prep': 0.3,\n",
       " 'Infect Genet Evol': 0.3,\n",
       " 'Spat Spatiotemporal Epidemiol': 0.3,\n",
       " 'Rev Soc Bras Med Trop': 0.3,\n",
       " 'Lancet Infect Dis': 0.3,\n",
       " 'J Math Econ': 0.3,\n",
       " 'Pathogens': 0.2,\n",
       " 'Open Forum Infect Dis': 0.2,\n",
       " 'BMC Med Res Methodol': 0.2,\n",
       " 'NPJ Digit Med': 0.2,\n",
       " 'Emerg Infect Dis': 0.2,\n",
       " 'Travel Med Infect Dis': 0.2,\n",
       " 'Cities': 0.2,\n",
       " 'J Econom': 0.2,\n",
       " 'Entropy (Basel)': 0.2,\n",
       " 'Infect Dis Poverty': 0.2,\n",
       " 'Math Methods Appl Sci': 0.2,\n",
       " 'AIMS Public Health': 0.2,\n",
       " 'Euro Surveill': 0.2,\n",
       " 'EClinicalMedicine': 0.2,\n",
       " 'Arch Comput Methods Eng': 0.2,\n",
       " 'Adv Theory Simul': 0.2,\n",
       " 'Math Comput Simul': 0.2,\n",
       " 'Epidemiology': 0.2,\n",
       " 'BMJ': 0.2,\n",
       " 'Mater Today Proc': 0.2,\n",
       " 'Saf Sci': 0.1,\n",
       " 'Trop Med Infect Dis': 0.1,\n",
       " 'Lancet Digit Health': 0.1,\n",
       " 'J Formos Med Assoc': 0.1,\n",
       " 'J Dyn Differ Equ': 0.1,\n",
       " 'Cognit Comput': 0.1,\n",
       " 'Transbound Emerg Dis': 0.1,\n",
       " 'Ann Oper Res': 0.1,\n",
       " 'BMC Vet Res': 0.1,\n",
       " 'Ecohealth': 0.1,\n",
       " 'Health Policy Plan': 0.1,\n",
       " 'Transp Res Part C Emerg Technol': 0.1,\n",
       " 'Sci Adv': 0.1,\n",
       " 'Comput Math Organ Theory': 0.1,\n",
       " 'BMJ Glob Health': 0.1,\n",
       " 'Ann Intern Med': 0.1,\n",
       " 'Rev Saude Publica': 0.1,\n",
       " 'Sex Transm Dis': 0.1,\n",
       " 'Value Health': 0.1,\n",
       " 'J Infect Dis': 0.1,\n",
       " 'Z Gesundh Wiss': 0.1,\n",
       " 'Pattern Recognit Lett': 0.1,\n",
       " 'J Appl Math Comput': 0.1,\n",
       " 'Front Artif Intell': 0.1,\n",
       " 'Int J Health Geogr': 0.1,\n",
       " 'Infect Dis Rep': 0.1,\n",
       " 'Comput Struct Biotechnol J': 0.1,\n",
       " 'Health Sci Rep': 0.1,\n",
       " 'Lancet Glob Health': 0.1,\n",
       " 'Infect Control Hosp Epidemiol': 0.1,\n",
       " 'J Math Ind': 0.1,\n",
       " 'Comput Mech': 0.1,\n",
       " 'Appl Netw Sci': 0.1,\n",
       " 'GeoJournal': 0.1,\n",
       " 'ScientificWorldJournal': 0.1,\n",
       " 'J Transl Med': 0.1,\n",
       " 'PLoS Med': 0.1,\n",
       " 'Eur J Health Econ': 0.1,\n",
       " 'J Clin Med': 0.1,\n",
       " 'Comput Methods Programs Biomed': 0.1,\n",
       " 'Lancet Public Health': 0.1,\n",
       " 'Arab J Sci Eng': 0.1,\n",
       " 'Lancet HIV': 0.1,\n",
       " 'Health Care Manag Sci': 0.1,\n",
       " 'Inf Sci (N Y)': 0.1,\n",
       " 'J Math Anal Appl': 0.1,\n",
       " 'J Gen Intern Med': 0.1,\n",
       " 'Health Econ': 0.1,\n",
       " 'JMIR Med Inform': 0.1,\n",
       " 'Am J Epidemiol': 0.1,\n",
       " 'Proc Math Phys Eng Sci': 0.1,\n",
       " 'Stat Med': 0.1,\n",
       " 'Comput Math Methods Med': 0.1,\n",
       " 'J Med Virol': 0.1,\n",
       " 'Neural Comput Appl': 0.1,\n",
       " 'Medicine (Baltimore)': 0.1,\n",
       " 'Mayo Clin Proc': 0.1,\n",
       " 'J Int AIDS Soc': 0.1,\n",
       " 'Iran J Public Health': 0.1,\n",
       " 'IEEE Open J Eng Med Biol': 0.1,\n",
       " 'Biomed Res Int': 0.1,\n",
       " 'J Glob Health': 0.1,\n",
       " 'Front Vet Sci': 0.1,\n",
       " 'Philos Trans A Math Phys Eng Sci': 0.1,\n",
       " 'Public Health': 0.1,\n",
       " 'Comput Methods Programs Biomed Update': 0.1,\n",
       " 'Int J Dyn Control': 0.1,\n",
       " 'Bull Math Biol': 0.1,\n",
       " 'Lancet Reg Health Am': 0.1,\n",
       " 'Lancet Planet Health': 0.1,\n",
       " 'Wellcome Open Res': 0.1,\n",
       " 'JMIRx Med': 0.1,\n",
       " 'Clin Epidemiol Glob Health': 0.1,\n",
       " 'SN Comput Sci': 0.1,\n",
       " 'Biomech Model Mechanobiol': 0.1,\n",
       " 'Trans GIS': 0.1,\n",
       " 'Sensors (Basel)': 0.1,\n",
       " 'J Healthc Inform Res': 0.1,\n",
       " 'J Public Aff': 0.1,\n",
       " 'Theor Appl Climatol': 0.1,\n",
       " 'Health Policy': 0.1,\n",
       " 'BMC Med Inform Decis Mak': 0.1,\n",
       " 'World Med Health Policy': 0.1,\n",
       " 'Comput Chem Eng': 0.1,\n",
       " 'CMAJ': 0.1,\n",
       " 'J Public Health Res': 0.1,\n",
       " 'CMAJ Open': 0.1,\n",
       " 'Inform Med Unlocked': 0.1,\n",
       " 'Am J Hum Biol': 0.1,\n",
       " 'Chem Eng Sci': 0.1,\n",
       " 'ArXiv': 0.1,\n",
       " 'Antibiotics (Basel)': 0.1,\n",
       " 'Microsc Res Tech': 0.1,\n",
       " 'Genomics Inform': 0.1,\n",
       " 'Commun Biol': 0.1,\n",
       " 'J Am Med Inform Assoc': 0.1,\n",
       " 'Data Brief': 0.1,\n",
       " 'J Virol Methods': 0.1,\n",
       " 'Neural Process Lett': 0.1,\n",
       " 'Gigascience': 0.1,\n",
       " 'Hum Vaccin Immunother': 0.1,\n",
       " 'Comput Intell Neurosci': 0.1,\n",
       " 'Br J Gen Pract': 0.1,\n",
       " 'Elife': 0.1,\n",
       " 'Theory Biosci': 0.1,\n",
       " 'J Optim Theory Appl': 0.1,\n",
       " 'Patterns (N Y)': 0.1,\n",
       " 'New Gener Comput': 0.1,\n",
       " 'Jpn J Ophthalmol': 0.1,\n",
       " 'Interdiscip Perspect Infect Dis': 0.1,\n",
       " 'APMIS': 0.1,\n",
       " 'Chemosphere': 0.1,\n",
       " 'Transp Res Interdiscip Perspect': 0.1,\n",
       " 'Eur J Hosp Pharm': 0.1,\n",
       " 'J Big Data': 0.1,\n",
       " 'Digit Signal Process': 0.1,\n",
       " 'BMC Pediatr': 0.1,\n",
       " 'Mol Biol Evol': 0.1,\n",
       " 'Inf Process Manag': 0.1,\n",
       " 'Air Qual Atmos Health': 0.1,\n",
       " 'J Bus Res': 0.1,\n",
       " 'J Gen Fam Med': 0.1,\n",
       " 'Pers Ubiquitous Comput': 0.1,\n",
       " 'Theor Popul Biol': 0.1,\n",
       " 'Biomath (Sofia)': 0.1,\n",
       " 'Healthc Inform Res': 0.1,\n",
       " 'J Am Pharm Assoc (2003)': 0.1,\n",
       " 'Clin Microbiol Infect': 0.1,\n",
       " 'Tanaffos': 0.1,\n",
       " 'Emerg Microbes Infect': 0.1,\n",
       " 'J Travel Med': 0.1,\n",
       " 'Health Promot Perspect': 0.1,\n",
       " 'J Int Med Res': 0.1,\n",
       " 'Ecol Evol': 0.1,\n",
       " 'J Differ Equ': 0.1,\n",
       " 'Clin Cardiol': 0.1,\n",
       " 'Influenza Other Respir Viruses': 0.1,\n",
       " 'Theor Biol Med Model': 0.1,\n",
       " 'Lancet': 0.1,\n",
       " 'Environ Health Perspect': 0.1,\n",
       " 'J Postgrad Med': 0.1,\n",
       " 'BMC Res Notes': 0.1,\n",
       " 'Diagnostics (Basel)': 0.1,\n",
       " 'Trop Med Health': 0.1,\n",
       " 'Med Sci Monit': 0.1,\n",
       " 'J Epidemiol Community Health': 0.1,\n",
       " 'J Acquir Immune Defic Syndr': 0.1,\n",
       " 'F1000Res': 0.1,\n",
       " 'J Franklin Inst': 0.1,\n",
       " 'Sci Data': 0.1,\n",
       " 'Array (N Y)': 0.1,\n",
       " 'China Econ Rev': 0.1,\n",
       " 'J Public Health (Oxf)': 0.1,\n",
       " 'Cureus': 0.1,\n",
       " 'Biochem Biophys Res Commun': 0.1,\n",
       " 'PeerJ Comput Sci': 0.1,\n",
       " 'J Vet Res': 0.1,\n",
       " 'Biom J': 0.1,\n",
       " 'Med J Aust': 0.1,\n",
       " 'Chem Eng J': 0.1,\n",
       " 'Indian J Med Res': 0.1,\n",
       " 'Environ Pollut': 0.1,\n",
       " 'J Complex Netw': 0.1,\n",
       " 'Nat Med': 0.1,\n",
       " 'Rev Esp Sanid Penit': 0.1,\n",
       " 'J Epidemiol Glob Health': 0.1,\n",
       " 'Measurement (Lond)': 0.1,\n",
       " 'J Infect Chemother': 0.1,\n",
       " 'Appl Math Lett': 0.1,\n",
       " 'J Epidemiol': 0.1,\n",
       " 'J Adolesc Health': 0.1,\n",
       " 'J Virol': 0.1,\n",
       " 'Theor Ecol': 0.1,\n",
       " 'J Bras Pneumol': 0.1,\n",
       " 'Phys Rev E': 0.1,\n",
       " 'Health Secur': 0.1,\n",
       " 'Evol Intell': 0.1,\n",
       " 'Int J Numer Method Biomed Eng': 0.1,\n",
       " 'Appl Math Comput': 0.1,\n",
       " 'SSM Popul Health': 0.1,\n",
       " 'Swiss J Econ Stat': 0.1,\n",
       " 'Soc Sci Med': 0.1,\n",
       " 'Afr Health Sci': 0.1,\n",
       " 'Genus': 0.1,\n",
       " 'J Family Med Prim Care': 0.1,\n",
       " 'Glob Epidemiol': 0.1,\n",
       " 'Comput Biol Chem': 0.1,\n",
       " 'Front Appl Math Stat': 0.1,\n",
       " 'Cogn Neurodyn': 0.1,\n",
       " 'Appl Math Optim': 0.1,\n",
       " 'Econ Anal Policy': 0.1,\n",
       " 'Beni Suef Univ J Basic Appl Sci': 0.1,\n",
       " 'J Arthropod Borne Dis': 0.1,\n",
       " 'J Transp Health': 0.1,\n",
       " 'Econ Theory': 0.1,\n",
       " 'Int J Forecast': 0.1,\n",
       " 'Transportation (Amst)': 0.1,\n",
       " 'Health Place': 0.1,\n",
       " 'Ann Med': 0.1,\n",
       " 'J Healthc Eng': 0.1,\n",
       " 'Am J Infect Control': 0.1,\n",
       " 'BMC Bioinformatics': 0.1,\n",
       " 'Soc Netw Anal Min': 0.1,\n",
       " 'Res Sq': 0.1,\n",
       " 'One Health': 0.1,\n",
       " 'Comput Soc Netw': 0.1,\n",
       " 'Future Gener Comput Syst': 0.1,\n",
       " 'J Pers Med': 0.1,\n",
       " 'Soc Sci Q': 0.1,\n",
       " 'Chin Geogr Sci': 0.1,\n",
       " 'Rev Inst Med Trop Sao Paulo': 0.1,\n",
       " 'Bioinformatics': 0.1,\n",
       " 'Indian J Phys Proc Indian Assoc Cultiv Sci (2004)': 0.1,\n",
       " 'Environ Sci Eur': 0.1,\n",
       " 'Biometrics': 0.1,\n",
       " 'Sex Transm Infect': 0.1,\n",
       " 'Int J Disaster Risk Reduct': 0.1,\n",
       " 'J Clin Tuberc Other Mycobact Dis': 0.1,\n",
       " 'BMC Biol': 0.1,\n",
       " 'Int J Control Autom Syst': 0.1,\n",
       " 'Microb Pathog': 0.1,\n",
       " 'Dyn Games Appl': 0.1,\n",
       " 'Comput Human Behav': 0.1,\n",
       " 'Animals (Basel)': 0.1,\n",
       " 'Insects': 0.1,\n",
       " 'J Policy Model': 0.1,\n",
       " 'Neurocomputing': 0.1,\n",
       " 'Knowl Based Syst': 0.1,\n",
       " 'J Reg Sci': 0.1,\n",
       " 'Int J Appl Comput Math': 0.1,\n",
       " 'Oxf Bull Econ Stat': 0.1,\n",
       " 'BMJ Health Care Inform': 0.1,\n",
       " 'Math Biosci Eng': 0.1,\n",
       " 'J Fungi (Basel)': 0.1,\n",
       " 'Popul Health Metr': 0.1,\n",
       " 'J Geogr Syst': 0.1,\n",
       " 'Vaccine X': 0.1,\n",
       " 'J Environ Public Health': 0.1,\n",
       " 'Financ Res Lett': 0.1,\n",
       " 'Econ Hum Biol': 0.1,\n",
       " 'Eur J Epidemiol': 0.1,\n",
       " 'Mil Med Res': 0.1,\n",
       " 'Engineering (Beijing)': 0.1,\n",
       " 'Stud Appl Math': 0.1,\n",
       " 'Environ Health Prev Med': 0.1,\n",
       " 'Can J Stat': 0.1,\n",
       " 'AIDS Res Ther': 0.1,\n",
       " 'Anal Math Phys': 0.1,\n",
       " 'Public Health Pract (Oxf)': 0.1,\n",
       " 'JMIR Mhealth Uhealth': 0.1,\n",
       " 'PLoS Biol': 0.1,\n",
       " 'Prev Med': 0.1,\n",
       " 'Curr Med Sci': 0.1,\n",
       " 'Optim Control Appl Methods': 0.1,\n",
       " 'Ecol Genet Genom': 0.1,\n",
       " 'J Chem Sci (Bangalore)': 0.1,\n",
       " 'Socioecon Plann Sci': 0.1,\n",
       " 'Eur J Oper Res': 0.1,\n",
       " 'J Biosaf Biosecur': 0.1,\n",
       " 'Indian J Community Med': 0.1,\n",
       " 'Eur Phys J Spec Top': 0.1,\n",
       " 'J Expo Sci Environ Epidemiol': 0.1,\n",
       " 'Exp Results': 0.1,\n",
       " 'J Infect': 0.1,\n",
       " 'Saudi J Biol Sci': 0.1,\n",
       " 'Technol Forecast Soc Change': 0.1,\n",
       " 'J Supercomput': 0.1,\n",
       " 'Environ Int': 0.1,\n",
       " 'J Intell Inf Syst': 0.1,\n",
       " 'Prev Vet Med': 0.1,\n",
       " 'Bull Natl Res Cent': 0.1,\n",
       " 'J Clin Virol': 0.1,\n",
       " 'J Taibah Univ Med Sci': 0.1,\n",
       " 'IEEE Access': 0.1,\n",
       " 'Math Semesterber': 0.1,\n",
       " 'J Clin Epidemiol': 0.1,\n",
       " 'Process Saf Environ Prot': 0.1,\n",
       " 'Front Robot AI': 0.1,\n",
       " 'Z Angew Math Phys': 0.1,\n",
       " 'Cost Eff Resour Alloc': 0.1}"
      ]
     },
     "execution_count": 113,
     "metadata": {},
     "output_type": "execute_result"
    }
   ],
   "source": [
    "dict(round(transp['Journal'].value_counts()/len(transp) *100,1))"
   ]
  },
  {
   "cell_type": "markdown",
   "metadata": {},
   "source": [
    "## Get the study characteristics\n",
    "These include diseases, model types and journal."
   ]
  },
  {
   "cell_type": "code",
   "execution_count": 114,
   "metadata": {},
   "outputs": [],
   "source": [
    "diseasepercent=df['Disease'].value_counts().rename_axis('Disease').reset_index(name='Percentage')\n",
    "diseasepercent['Percentage']=diseasepercent.Percentage.apply(lambda x: round((x/len(df))*100,1))\n",
    "diseasepercent.to_csv('./results/diseasespercentage.csv',index=False)\n",
    "\n",
    "models=df['Model'].value_counts().rename_axis('Models').reset_index(name='Percentage')\n",
    "models['Percentage']=models.Percentage.apply(lambda x: round((x/len(df))*100,1))\n",
    "models.to_csv('./results/modelpercentage.csv',index=False)"
   ]
  },
  {
   "cell_type": "markdown",
   "metadata": {},
   "source": [
    "# Get the occurences of the transparency indicators across subgroups of interest"
   ]
  },
  {
   "cell_type": "code",
   "execution_count": 115,
   "metadata": {},
   "outputs": [],
   "source": [
    "columns=['is_coi_pred','is_register_pred','is_fund_pred','is_open_code','is_open_data','Disease','Model']\n",
    "transpar=pd.DataFrame(transp, columns=columns)\n",
    "model_transp=pd.DataFrame(transpar.groupby('Model').sum())"
   ]
  },
  {
   "cell_type": "code",
   "execution_count": 116,
   "metadata": {},
   "outputs": [
    {
     "name": "stderr",
     "output_type": "stream",
     "text": [
      "/var/folders/wx/sx67klw51p99ypb39mtcwx_00000gn/T/ipykernel_32845/1442954762.py:10: SettingWithCopyWarning: \n",
      "A value is trying to be set on a copy of a slice from a DataFrame\n",
      "\n",
      "See the caveats in the documentation: https://pandas.pydata.org/pandas-docs/stable/user_guide/indexing.html#returning-a-view-versus-a-copy\n",
      "  transpar['Disease'][~transpar['Disease'].isin(['Covid-19','General (theoretical model)','Malaria','Dengue','Influenza illnesses'])]='Other'\n",
      "/var/folders/wx/sx67klw51p99ypb39mtcwx_00000gn/T/ipykernel_32845/1442954762.py:23: SettingWithCopyWarning: \n",
      "A value is trying to be set on a copy of a slice from a DataFrame\n",
      "\n",
      "See the caveats in the documentation: https://pandas.pydata.org/pandas-docs/stable/user_guide/indexing.html#returning-a-view-versus-a-copy\n",
      "  transpar['Journal'][~transpar['Journal'].isin(['PLoS One','Sci Rep','Int J Environ Res Public Health'])]='Other'\n"
     ]
    }
   ],
   "source": [
    "# Model type\n",
    "columns=['is_coi_pred','is_register_pred','is_fund_pred','is_open_code','is_open_data','Disease','Model']\n",
    "transpar=pd.DataFrame(transp, columns=columns)\n",
    "model_transp=pd.DataFrame(transpar.groupby('Model').sum())\n",
    "model_transp.to_csv('./results/model_transparency_occurrences.csv')\n",
    "\n",
    "# Disease\n",
    "columns=['is_coi_pred','is_register_pred','is_fund_pred','is_open_code','is_open_data','Disease','Model']\n",
    "transpar=pd.DataFrame(transp, columns=columns)\n",
    "transpar['Disease'][~transpar['Disease'].isin(['Covid-19','General (theoretical model)','Malaria','Dengue','Influenza illnesses'])]='Other'\n",
    "disease_top_5_transp=pd.DataFrame(transpar.groupby('Disease').sum())\n",
    "disease_top_5_transp.to_csv('./results/disease_transp_occurrences.csv')\n",
    "\n",
    "# Year & COVID status\n",
    "columns=['is_coi_pred','is_register_pred','is_fund_pred','is_open_code','is_open_data','Disease','Model','Publication_Year']\n",
    "transpar=pd.DataFrame(transp, columns=columns)\n",
    "Year=pd.DataFrame(transpar.groupby('Publication_Year').sum())\n",
    "Year.to_csv('./results/year_covid_occurrences.csv')\n",
    "\n",
    "# Journals= top 3\n",
    "columns=['is_coi_pred','is_register_pred','is_fund_pred','is_open_code','is_open_data','Disease','Model','Journal']\n",
    "transpar=pd.DataFrame(transp, columns=columns)\n",
    "transpar['Journal'][~transpar['Journal'].isin(['PLoS One','Sci Rep','Int J Environ Res Public Health'])]='Other'\n",
    "journal_transp=pd.DataFrame(transpar.groupby('Journal').sum())\n",
    "journal_transp.to_csv('./results/journal_transp_occurrences.csv')\n"
   ]
  },
  {
   "cell_type": "code",
   "execution_count": 117,
   "metadata": {},
   "outputs": [
    {
     "name": "stderr",
     "output_type": "stream",
     "text": [
      "/var/folders/wx/sx67klw51p99ypb39mtcwx_00000gn/T/ipykernel_32845/1135825946.py:10: SettingWithCopyWarning: \n",
      "A value is trying to be set on a copy of a slice from a DataFrame\n",
      "\n",
      "See the caveats in the documentation: https://pandas.pydata.org/pandas-docs/stable/user_guide/indexing.html#returning-a-view-versus-a-copy\n",
      "  transpar['Disease'][~transpar['Disease'].isin(['Covid-19','General (theoretical model)','Malaria','Dengue','Influenza illnesses'])]='Other'\n",
      "/var/folders/wx/sx67klw51p99ypb39mtcwx_00000gn/T/ipykernel_32845/1135825946.py:23: SettingWithCopyWarning: \n",
      "A value is trying to be set on a copy of a slice from a DataFrame\n",
      "\n",
      "See the caveats in the documentation: https://pandas.pydata.org/pandas-docs/stable/user_guide/indexing.html#returning-a-view-versus-a-copy\n",
      "  transpar['Journal'][~transpar['Journal'].isin(['PLoS One','Sci Rep','Int J Environ Res Public Health'])]='Other'\n"
     ]
    }
   ],
   "source": [
    "# Model type\n",
    "columns=['is_coi_pred','is_register_pred','is_fund_pred','is_open_code','is_open_data','Disease','Model']\n",
    "transpar=pd.DataFrame(transp, columns=columns)\n",
    "model_transp=pd.DataFrame(round(transpar.groupby('Model').mean()*100,1))\n",
    "model_transp.to_csv('./results/model_transparency_percentages.csv')\n",
    "\n",
    "# Disease\n",
    "columns=['is_coi_pred','is_register_pred','is_fund_pred','is_open_code','is_open_data','Disease','Model']\n",
    "transpar=pd.DataFrame(transp, columns=columns)\n",
    "transpar['Disease'][~transpar['Disease'].isin(['Covid-19','General (theoretical model)','Malaria','Dengue','Influenza illnesses'])]='Other'\n",
    "disease_top_5_transp=pd.DataFrame(round(transpar.groupby('Disease').mean()*100,1))\n",
    "disease_top_5_transp.to_csv('./results/disease_transp_percentages.csv')\n",
    "\n",
    "# Year & COVID status\n",
    "columns=['is_coi_pred','is_register_pred','is_fund_pred','is_open_code','is_open_data','Disease','Model','Publication_Year']\n",
    "transpar=pd.DataFrame(transp, columns=columns)\n",
    "Year=pd.DataFrame(round(transpar.groupby(['Publication_Year']).mean()*100,1))\n",
    "Year.to_csv('./results/year_covid_percentages.csv')\n",
    "\n",
    "# Journals= top 3\n",
    "columns=['is_coi_pred','is_register_pred','is_fund_pred','is_open_code','is_open_data','Disease','Model','Journal']\n",
    "transpar=pd.DataFrame(transp, columns=columns)\n",
    "transpar['Journal'][~transpar['Journal'].isin(['PLoS One','Sci Rep','Int J Environ Res Public Health'])]='Other'\n",
    "journal_transp=pd.DataFrame(round(transpar.groupby('Journal').mean()*100,1))\n",
    "journal_transp.to_csv('./results/journal_transp_percentage.csv')"
   ]
  },
  {
   "cell_type": "markdown",
   "metadata": {},
   "source": [
    "# Get the percentages of the transparency indicators across subgroups of interest"
   ]
  },
  {
   "cell_type": "code",
   "execution_count": 118,
   "metadata": {},
   "outputs": [
    {
     "name": "stderr",
     "output_type": "stream",
     "text": [
      "/var/folders/wx/sx67klw51p99ypb39mtcwx_00000gn/T/ipykernel_32845/3055621466.py:10: SettingWithCopyWarning: \n",
      "A value is trying to be set on a copy of a slice from a DataFrame\n",
      "\n",
      "See the caveats in the documentation: https://pandas.pydata.org/pandas-docs/stable/user_guide/indexing.html#returning-a-view-versus-a-copy\n",
      "  transpar['Disease'][~transpar['Disease'].isin(['Covid-19','General (theoretical model)','Malaria','Dengue','Influenza illnesses'])]='Other'\n"
     ]
    }
   ],
   "source": [
    "# Model type\n",
    "columns=['is_coi_pred','is_register_pred','is_fund_pred','is_open_code','is_open_data','Disease','Model']\n",
    "transpas=pd.DataFrame(transp, columns=columns)\n",
    "model_transp=pd.DataFrame(round(transpas.groupby('Model').mean()*100,1))\n",
    "model_transp.to_csv('./results/model_transparency.csv')\n",
    "\n",
    "# Disease\n",
    "columns=['is_coi_pred','is_register_pred','is_fund_pred','is_open_code','is_open_data','Disease','Model']\n",
    "transpar=pd.DataFrame(transp, columns=columns)\n",
    "transpar['Disease'][~transpar['Disease'].isin(['Covid-19','General (theoretical model)','Malaria','Dengue','Influenza illnesses'])]='Other'\n",
    "disease_top_5_transp=pd.DataFrame(round(transpar.groupby('Disease').mean()*100,1))\n",
    "disease_top_5_transp.to_csv('./results/disease_top_5_transp.csv')\n",
    "\n",
    "# Year & COVID status\n",
    "columns=['is_coi_pred','is_register_pred','is_fund_pred','is_open_code','is_open_data','Disease','Model','Publication_Year']\n",
    "transpar=pd.DataFrame(transp, columns=columns)\n",
    "\n",
    "Year=pd.DataFrame(round(transpar.groupby(['Publication_Year']).mean()*100,1))\n",
    "Year.to_csv('./results/year_covid.csv')\n",
    "\n",
    "# Journals= top 3\n",
    "columns=['is_coi_pred','is_register_pred','is_fund_pred','is_open_code','is_open_data','Disease','Model','Journal']\n",
    "transpar=pd.DataFrame(transp, columns=columns)\n",
    "transpar=transpar[transpar['Journal'].isin(['PLoS One','Sci Rep','Int J Environ Res Public Health'])]\n",
    "journal_transp=pd.DataFrame(round(transpar.groupby('Journal').mean()*100,1))\n",
    "journal_transp.to_csv('./results/journal_transp.csv')\n"
   ]
  },
  {
   "cell_type": "markdown",
   "metadata": {},
   "source": [
    "# Transparency indicators across the years for the 2019 and 2021 sample "
   ]
  },
  {
   "cell_type": "code",
   "execution_count": 119,
   "metadata": {},
   "outputs": [
    {
     "name": "stderr",
     "output_type": "stream",
     "text": [
      "/var/folders/wx/sx67klw51p99ypb39mtcwx_00000gn/T/ipykernel_32845/3417509419.py:2: SettingWithCopyWarning: \n",
      "A value is trying to be set on a copy of a slice from a DataFrame\n",
      "\n",
      "See the caveats in the documentation: https://pandas.pydata.org/pandas-docs/stable/user_guide/indexing.html#returning-a-view-versus-a-copy\n",
      "  tjugotjugoett['Publication_Year'][tjugotjugoett['Publication_Year'].isin(['2021 Covid-19', '2021 Non Covid-19'])]='2021'\n",
      "/Users/emmanuel/opt/anaconda3/lib/python3.9/site-packages/pandas/core/generic.py:8870: SettingWithCopyWarning: \n",
      "A value is trying to be set on a copy of a slice from a DataFrame\n",
      "\n",
      "See the caveats in the documentation: https://pandas.pydata.org/pandas-docs/stable/user_guide/indexing.html#returning-a-view-versus-a-copy\n",
      "  return self._update_inplace(result)\n"
     ]
    }
   ],
   "source": [
    "tjugotjugoett=transp[transp['Publication_Year'].isin(['2021 Covid-19', '2021 Non Covid-19'])]\n",
    "tjugotjugoett['Publication_Year'][tjugotjugoett['Publication_Year'].isin(['2021 Covid-19', '2021 Non Covid-19'])]='2021'\n",
    "tjugotjugoett\n",
    "\n",
    "# to extract the 2021 overall transparency\n",
    "(round((tjugotjugoett.groupby('Publication_Year').mean()*100),1)).to_csv('./results/year2021.csv')"
   ]
  },
  {
   "cell_type": "markdown",
   "metadata": {},
   "source": [
    "### For all publications"
   ]
  },
  {
   "cell_type": "code",
   "execution_count": 120,
   "metadata": {},
   "outputs": [
    {
     "data": {
      "text/plain": [
       "is_coi_pred                                                      1197\n",
       "is_register_pred                                                    6\n",
       "is_fund_pred                                                     1109\n",
       "is_open_code                                                      288\n",
       "is_open_data                                                      332\n",
       "Disease             Covid-19Covid-19Covid-19Covid-19Covid-19Covid-...\n",
       "Model               CompartmentalCompartmentalSpatiotemporalTime S...\n",
       "dtype: object"
      ]
     },
     "execution_count": 120,
     "metadata": {},
     "output_type": "execute_result"
    }
   ],
   "source": [
    "transpas.sum()"
   ]
  },
  {
   "cell_type": "code",
   "execution_count": 121,
   "metadata": {},
   "outputs": [
    {
     "name": "stderr",
     "output_type": "stream",
     "text": [
      "/var/folders/wx/sx67klw51p99ypb39mtcwx_00000gn/T/ipykernel_32845/735997599.py:1: FutureWarning: Dropping of nuisance columns in DataFrame reductions (with 'numeric_only=None') is deprecated; in a future version this will raise TypeError.  Select only valid columns before calling the reduction.\n",
      "  transpas.mean()*100\n"
     ]
    },
    {
     "data": {
      "text/plain": [
       "is_coi_pred         89.461883\n",
       "is_register_pred     0.448430\n",
       "is_fund_pred        82.884903\n",
       "is_open_code        21.524664\n",
       "is_open_data        24.813154\n",
       "dtype: float64"
      ]
     },
     "execution_count": 121,
     "metadata": {},
     "output_type": "execute_result"
    }
   ],
   "source": [
    "transpas.mean()*100"
   ]
  },
  {
   "cell_type": "markdown",
   "metadata": {},
   "source": [
    "## Papers sharing neither or both code and data\n",
    "Extracts all the papers that share code and data, and the ones that share neither"
   ]
  },
  {
   "cell_type": "code",
   "execution_count": 122,
   "metadata": {},
   "outputs": [],
   "source": [
    "shareboth=transp.loc[(codesharing.is_open_data==True) & (codesharing.is_open_code==True)]\n",
    "shareboth.to_csv('./output/shareboth.csv')\n",
    "\n",
    "shareneither=transp.loc[(codesharing.is_open_data==False) & (codesharing.is_open_code==False)]\n",
    "shareneither.to_csv('./output/shareneither.csv')"
   ]
  },
  {
   "cell_type": "code",
   "execution_count": 123,
   "metadata": {},
   "outputs": [
    {
     "name": "stdout",
     "output_type": "stream",
     "text": [
      "The ones that share neither code nor data are 68.68% of the papers. The ones that share both are 14.87% of the papers\n"
     ]
    }
   ],
   "source": [
    "shareneitherstr=str(round((len(shareneither)/len(transp))*100,2))\n",
    "sharebothstr=str(round((len(shareboth)/len(transp))*100,2))\n",
    "\n",
    "print('The ones that share neither code nor data are '+shareneitherstr+'% of the papers.', 'The ones that share both are '+sharebothstr+'% of the papers')"
   ]
  },
  {
   "cell_type": "markdown",
   "metadata": {},
   "source": [
    "For the raw number of these studies"
   ]
  },
  {
   "cell_type": "code",
   "execution_count": 124,
   "metadata": {},
   "outputs": [
    {
     "data": {
      "text/plain": [
       "(919, 199)"
      ]
     },
     "execution_count": 124,
     "metadata": {},
     "output_type": "execute_result"
    }
   ],
   "source": [
    "len(shareneither), len(shareboth)"
   ]
  },
  {
   "cell_type": "markdown",
   "metadata": {},
   "source": [
    "# Validating Code sharing, Data sharing, and Registrations\n",
    "test 10% of samples that share code 10% that share data and all registrations, EAZ went through the actual statements to validate them."
   ]
  },
  {
   "cell_type": "code",
   "execution_count": 125,
   "metadata": {},
   "outputs": [],
   "source": [
    "codesampl=codetransp[codetransp['is_open_code']==True]\n",
    "codesample=list(codesampl.PMID)\n",
    "random.seed(1821)\n",
    "codesearch=random.sample(codesample,int(round(len(codesample)*0.1,0)))\n",
    "codesampl=codesampl[codesampl['PMID'].isin(codesearch)]\n",
    "pd.DataFrame(codesampl, columns=['open_code_statements','PMID']).to_csv('./output/validate_code.csv')"
   ]
  },
  {
   "cell_type": "code",
   "execution_count": 126,
   "metadata": {},
   "outputs": [],
   "source": [
    "datasampl=codetransp[codetransp['is_open_data']==True]\n",
    "datasample=list(datasampl.PMID)\n",
    "random.seed(1821)\n",
    "datasearch=random.sample(datasample,int(round(len(datasample)*0.1,0)))\n",
    "\n",
    "datasampl=datasampl[datasampl['PMID'].isin(datasearch)]\n",
    "pd.DataFrame(datasampl, columns=['open_data_statements','PMID']).to_csv('./output/validate_data.csv')"
   ]
  },
  {
   "cell_type": "code",
   "execution_count": 127,
   "metadata": {},
   "outputs": [],
   "source": [
    "registrationsampl=resttransp[resttransp['is_register_pred']==True]\n",
    "pd.DataFrame(registrationsampl, columns=['register_text','PMID']).to_csv('./output/validate_register.csv')"
   ]
  },
  {
   "cell_type": "markdown",
   "metadata": {},
   "source": [
    "## Results"
   ]
  },
  {
   "cell_type": "code",
   "execution_count": 128,
   "metadata": {},
   "outputs": [],
   "source": [
    "linktesting=pd.read_csv('./output/manual_validation_cleaned_no_COI_fund.csv')"
   ]
  },
  {
   "cell_type": "code",
   "execution_count": 129,
   "metadata": {},
   "outputs": [],
   "source": [
    "registrationtest=linktesting[linktesting['variable_tested']=='Registration']\n",
    "codetest=linktesting[linktesting['variable_tested']=='Code']\n",
    "datatest=linktesting[linktesting['variable_tested']=='Data']"
   ]
  },
  {
   "cell_type": "code",
   "execution_count": 130,
   "metadata": {},
   "outputs": [
    {
     "data": {
      "text/plain": [
       "True     82.76\n",
       "False    17.24\n",
       "Name: actually_transparent, dtype: float64"
      ]
     },
     "execution_count": 130,
     "metadata": {},
     "output_type": "execute_result"
    }
   ],
   "source": [
    "round(codetest.actually_transparent.value_counts()/len(codetest)*100,2)"
   ]
  },
  {
   "cell_type": "code",
   "execution_count": 131,
   "metadata": {},
   "outputs": [
    {
     "data": {
      "text/plain": [
       "True     87.88\n",
       "False    12.12\n",
       "Name: actually_transparent, dtype: float64"
      ]
     },
     "execution_count": 131,
     "metadata": {},
     "output_type": "execute_result"
    }
   ],
   "source": [
    "round(datatest.actually_transparent.value_counts()/len(datatest)*100,2)"
   ]
  },
  {
   "cell_type": "code",
   "execution_count": 132,
   "metadata": {},
   "outputs": [
    {
     "data": {
      "text/plain": [
       "True     83.33\n",
       "False    16.67\n",
       "Name: actually_transparent, dtype: float64"
      ]
     },
     "execution_count": 132,
     "metadata": {},
     "output_type": "execute_result"
    }
   ],
   "source": [
    "round(registrationtest.actually_transparent.value_counts()/len(registrationtest)*100,2)"
   ]
  },
  {
   "cell_type": "markdown",
   "metadata": {},
   "source": [
    "## characteristics of the registered studies"
   ]
  },
  {
   "cell_type": "code",
   "execution_count": 133,
   "metadata": {},
   "outputs": [
    {
     "data": {
      "text/html": [
       "<div>\n",
       "<style scoped>\n",
       "    .dataframe tbody tr th:only-of-type {\n",
       "        vertical-align: middle;\n",
       "    }\n",
       "\n",
       "    .dataframe tbody tr th {\n",
       "        vertical-align: top;\n",
       "    }\n",
       "\n",
       "    .dataframe thead th {\n",
       "        text-align: right;\n",
       "    }\n",
       "</style>\n",
       "<table border=\"1\" class=\"dataframe\">\n",
       "  <thead>\n",
       "    <tr style=\"text-align: right;\">\n",
       "      <th></th>\n",
       "      <th>PMID</th>\n",
       "      <th>is_coi_pred</th>\n",
       "      <th>is_register_pred</th>\n",
       "      <th>is_fund_pred</th>\n",
       "      <th>is_open_code</th>\n",
       "      <th>is_open_data</th>\n",
       "      <th>Disease</th>\n",
       "      <th>Model</th>\n",
       "      <th>Publication_Year</th>\n",
       "      <th>Journal</th>\n",
       "    </tr>\n",
       "  </thead>\n",
       "  <tbody>\n",
       "    <tr>\n",
       "      <th>41</th>\n",
       "      <td>34932560</td>\n",
       "      <td>True</td>\n",
       "      <td>True</td>\n",
       "      <td>True</td>\n",
       "      <td>False</td>\n",
       "      <td>True</td>\n",
       "      <td>Polio</td>\n",
       "      <td>Agent-based</td>\n",
       "      <td>2021 Non Covid-19</td>\n",
       "      <td>PLoS Comput Biol</td>\n",
       "    </tr>\n",
       "    <tr>\n",
       "      <th>251</th>\n",
       "      <td>34625589</td>\n",
       "      <td>True</td>\n",
       "      <td>True</td>\n",
       "      <td>True</td>\n",
       "      <td>False</td>\n",
       "      <td>False</td>\n",
       "      <td>Malaria</td>\n",
       "      <td>Spatiotemporal</td>\n",
       "      <td>2021 Non Covid-19</td>\n",
       "      <td>Sci Rep</td>\n",
       "    </tr>\n",
       "    <tr>\n",
       "      <th>512</th>\n",
       "      <td>34187546</td>\n",
       "      <td>True</td>\n",
       "      <td>True</td>\n",
       "      <td>True</td>\n",
       "      <td>False</td>\n",
       "      <td>False</td>\n",
       "      <td>Vector</td>\n",
       "      <td>Spatiotemporal</td>\n",
       "      <td>2021 Non Covid-19</td>\n",
       "      <td>Parasit Vectors</td>\n",
       "    </tr>\n",
       "    <tr>\n",
       "      <th>1173</th>\n",
       "      <td>31568489</td>\n",
       "      <td>True</td>\n",
       "      <td>True</td>\n",
       "      <td>True</td>\n",
       "      <td>False</td>\n",
       "      <td>True</td>\n",
       "      <td>Malaria</td>\n",
       "      <td>Spatiotemporal</td>\n",
       "      <td>2019</td>\n",
       "      <td>PLoS One</td>\n",
       "    </tr>\n",
       "    <tr>\n",
       "      <th>1178</th>\n",
       "      <td>31698706</td>\n",
       "      <td>True</td>\n",
       "      <td>True</td>\n",
       "      <td>True</td>\n",
       "      <td>False</td>\n",
       "      <td>False</td>\n",
       "      <td>Rotavirus</td>\n",
       "      <td>Time Series</td>\n",
       "      <td>2019</td>\n",
       "      <td>Int J Environ Res Public Health</td>\n",
       "    </tr>\n",
       "  </tbody>\n",
       "</table>\n",
       "</div>"
      ],
      "text/plain": [
       "          PMID  is_coi_pred  is_register_pred  is_fund_pred  is_open_code  \\\n",
       "41    34932560         True              True          True         False   \n",
       "251   34625589         True              True          True         False   \n",
       "512   34187546         True              True          True         False   \n",
       "1173  31568489         True              True          True         False   \n",
       "1178  31698706         True              True          True         False   \n",
       "\n",
       "      is_open_data    Disease           Model   Publication_Year  \\\n",
       "41            True      Polio     Agent-based  2021 Non Covid-19   \n",
       "251          False    Malaria  Spatiotemporal  2021 Non Covid-19   \n",
       "512          False     Vector  Spatiotemporal  2021 Non Covid-19   \n",
       "1173          True    Malaria  Spatiotemporal               2019   \n",
       "1178         False  Rotavirus     Time Series               2019   \n",
       "\n",
       "                              Journal  \n",
       "41                   PLoS Comput Biol  \n",
       "251                           Sci Rep  \n",
       "512                   Parasit Vectors  \n",
       "1173                         PLoS One  \n",
       "1178  Int J Environ Res Public Health  "
      ]
     },
     "execution_count": 133,
     "metadata": {},
     "output_type": "execute_result"
    }
   ],
   "source": [
    "registrationtestPMID=list(registrationtest['PMID'][registrationtest.actually_transparent])\n",
    "transp[transp['PMID'].isin(registrationtestPMID)]"
   ]
  },
  {
   "cell_type": "markdown",
   "metadata": {},
   "source": [
    "# Validating conflict of interest and funding disclosures"
   ]
  },
  {
   "cell_type": "markdown",
   "metadata": {},
   "source": [
    "Same approach as in the the other validation"
   ]
  },
  {
   "cell_type": "code",
   "execution_count": 134,
   "metadata": {},
   "outputs": [],
   "source": [
    "COIcolumns= ['PMID','is_coi_pred','coi_text']"
   ]
  },
  {
   "cell_type": "code",
   "execution_count": 135,
   "metadata": {},
   "outputs": [],
   "source": [
    "COI=resttransp[resttransp['is_coi_pred']==True]\n",
    "COIsearch=list(COI.PMID)\n",
    "random.seed(1821)\n",
    "COIsearch=random.sample(COIsearch,int(round(len(COIsearch)*0.1,0)))\n",
    "COI=COI[COI['PMID'].isin(COIsearch)]\n",
    "\n",
    "pd.DataFrame(COI, columns=COIcolumns).to_csv('./output/validation_coi.csv')"
   ]
  },
  {
   "cell_type": "markdown",
   "metadata": {},
   "source": [
    "### 4 actually had a real conflict"
   ]
  },
  {
   "cell_type": "code",
   "execution_count": 136,
   "metadata": {},
   "outputs": [],
   "source": [
    "actual_conflict=[33446891, 33878351, 34511711, 34045002, 33886486]"
   ]
  },
  {
   "cell_type": "code",
   "execution_count": 137,
   "metadata": {},
   "outputs": [],
   "source": [
    "FUNDcolumns=['PMID','fund_text']"
   ]
  },
  {
   "cell_type": "code",
   "execution_count": 138,
   "metadata": {},
   "outputs": [],
   "source": [
    "FUND=resttransp[resttransp['is_fund_pred']==True]\n",
    "FUNDsearch=list(FUND.PMID)\n",
    "random.seed(1821)\n",
    "FUNDsearch=random.sample(FUNDsearch,int(round(len(FUNDsearch)*0.1,0)))\n",
    "FUND=FUND[FUND['PMID'].isin(FUNDsearch)]\n",
    "\n",
    "pd.DataFrame(FUND, columns=FUNDcolumns).to_csv('./output/validation_fund.csv')"
   ]
  },
  {
   "cell_type": "markdown",
   "metadata": {},
   "source": [
    "### funding statements that had NO funding statement (as in no funding to disclose)"
   ]
  },
  {
   "cell_type": "code",
   "execution_count": 139,
   "metadata": {},
   "outputs": [],
   "source": [
    "nofund=[31145744, 31209084,33425640,33933228,33455588,33665042,34205809,34483725,34452040,34525112,34658535,34690384,34886507]"
   ]
  },
  {
   "cell_type": "markdown",
   "metadata": {},
   "source": [
    "### the percentage and no. of studies that disclose nothing in the COI statement"
   ]
  },
  {
   "cell_type": "code",
   "execution_count": 140,
   "metadata": {},
   "outputs": [
    {
     "name": "stdout",
     "output_type": "stream",
     "text": [
      "115 (95.8)\n"
     ]
    }
   ],
   "source": [
    "print(str(len(COI)-len(actual_conflict))+' (' +str((1-round(len(actual_conflict)/len(COI),3) )*100)+')')\n"
   ]
  },
  {
   "cell_type": "markdown",
   "metadata": {},
   "source": [
    "### the percentage and no of studies that disclose nothing in the Funding statement"
   ]
  },
  {
   "cell_type": "code",
   "execution_count": 141,
   "metadata": {},
   "outputs": [
    {
     "name": "stdout",
     "output_type": "stream",
     "text": [
      "13 (11.7)\n"
     ]
    }
   ],
   "source": [
    "nofundno=(round(len(nofund)/len(FUND),3))\n",
    "print(str(len(nofund))+' ('+str(round(nofundno*100,1))+')')"
   ]
  }
 ],
 "metadata": {
  "interpreter": {
   "hash": "666175e9e776e66167cf595f9301aaf6e468b4ff814036463b82511551f363d2"
  },
  "kernelspec": {
   "display_name": "Python 3.8.8 64-bit ('base': conda)",
   "name": "python3"
  },
  "language_info": {
   "codemirror_mode": {
    "name": "ipython",
    "version": 3
   },
   "file_extension": ".py",
   "mimetype": "text/x-python",
   "name": "python",
   "nbconvert_exporter": "python",
   "pygments_lexer": "ipython3",
   "version": "3.9.7"
  },
  "orig_nbformat": 4
 },
 "nbformat": 4,
 "nbformat_minor": 2
}
